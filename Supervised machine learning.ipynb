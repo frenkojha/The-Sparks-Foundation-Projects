{
 "cells": [
  {
   "cell_type": "markdown",
   "id": "307754b6",
   "metadata": {},
   "source": [
    "# Introduction:\n",
    "## Institute: The Sparks Foundation\n",
    "## Intern name: Frenko Jha\n",
    "### Internship in Data Science & Business Analytics"
   ]
  },
  {
   "cell_type": "markdown",
   "id": "0915bf57",
   "metadata": {},
   "source": [
    "# Case study on supervised machine learning with R language"
   ]
  },
  {
   "cell_type": "markdown",
   "id": "82bdbc6c",
   "metadata": {},
   "source": [
    "Que.- Predict the percentage of an student based on the number of study hours "
   ]
  },
  {
   "cell_type": "code",
   "execution_count": 1,
   "id": "fd598bc4",
   "metadata": {},
   "outputs": [
    {
     "name": "stderr",
     "output_type": "stream",
     "text": [
      "Warning message:\n",
      "\"package 'dplyr' was built under R version 4.0.4\"\n",
      "\n",
      "Attaching package: 'dplyr'\n",
      "\n",
      "\n",
      "The following objects are masked from 'package:stats':\n",
      "\n",
      "    filter, lag\n",
      "\n",
      "\n",
      "The following objects are masked from 'package:base':\n",
      "\n",
      "    intersect, setdiff, setequal, union\n",
      "\n",
      "\n"
     ]
    }
   ],
   "source": [
    "# Importing important libraries\n",
    "# ggplot2 library use for visualization of data\n",
    "# dplyr is useful for using r internal functions\n",
    "library(ggplot2)\n",
    "library(dplyr)"
   ]
  },
  {
   "cell_type": "code",
   "execution_count": 2,
   "id": "99d73e34",
   "metadata": {},
   "outputs": [
    {
     "data": {
      "text/html": [
       "'C:/Users/91810/Desktop/RStudio files/Jupyter notebook files'"
      ],
      "text/latex": [
       "'C:/Users/91810/Desktop/RStudio files/Jupyter notebook files'"
      ],
      "text/markdown": [
       "'C:/Users/91810/Desktop/RStudio files/Jupyter notebook files'"
      ],
      "text/plain": [
       "[1] \"C:/Users/91810/Desktop/RStudio files/Jupyter notebook files\""
      ]
     },
     "metadata": {},
     "output_type": "display_data"
    },
    {
     "data": {
      "text/html": [
       "<table class=\"dataframe\">\n",
       "<caption>A data.frame: 25 × 2</caption>\n",
       "<thead>\n",
       "\t<tr><th scope=col>Hours</th><th scope=col>Scores</th></tr>\n",
       "\t<tr><th scope=col>&lt;dbl&gt;</th><th scope=col>&lt;int&gt;</th></tr>\n",
       "</thead>\n",
       "<tbody>\n",
       "\t<tr><td>2.5</td><td>21</td></tr>\n",
       "\t<tr><td>5.1</td><td>47</td></tr>\n",
       "\t<tr><td>3.2</td><td>27</td></tr>\n",
       "\t<tr><td>8.5</td><td>75</td></tr>\n",
       "\t<tr><td>3.5</td><td>30</td></tr>\n",
       "\t<tr><td>1.5</td><td>20</td></tr>\n",
       "\t<tr><td>9.2</td><td>88</td></tr>\n",
       "\t<tr><td>5.5</td><td>60</td></tr>\n",
       "\t<tr><td>8.3</td><td>81</td></tr>\n",
       "\t<tr><td>2.7</td><td>25</td></tr>\n",
       "\t<tr><td>7.7</td><td>85</td></tr>\n",
       "\t<tr><td>5.9</td><td>62</td></tr>\n",
       "\t<tr><td>4.5</td><td>41</td></tr>\n",
       "\t<tr><td>3.3</td><td>42</td></tr>\n",
       "\t<tr><td>1.1</td><td>17</td></tr>\n",
       "\t<tr><td>8.9</td><td>95</td></tr>\n",
       "\t<tr><td>2.5</td><td>30</td></tr>\n",
       "\t<tr><td>1.9</td><td>24</td></tr>\n",
       "\t<tr><td>6.1</td><td>67</td></tr>\n",
       "\t<tr><td>7.4</td><td>69</td></tr>\n",
       "\t<tr><td>2.7</td><td>30</td></tr>\n",
       "\t<tr><td>4.8</td><td>54</td></tr>\n",
       "\t<tr><td>3.8</td><td>35</td></tr>\n",
       "\t<tr><td>6.9</td><td>76</td></tr>\n",
       "\t<tr><td>7.8</td><td>86</td></tr>\n",
       "</tbody>\n",
       "</table>\n"
      ],
      "text/latex": [
       "A data.frame: 25 × 2\n",
       "\\begin{tabular}{ll}\n",
       " Hours & Scores\\\\\n",
       " <dbl> & <int>\\\\\n",
       "\\hline\n",
       "\t 2.5 & 21\\\\\n",
       "\t 5.1 & 47\\\\\n",
       "\t 3.2 & 27\\\\\n",
       "\t 8.5 & 75\\\\\n",
       "\t 3.5 & 30\\\\\n",
       "\t 1.5 & 20\\\\\n",
       "\t 9.2 & 88\\\\\n",
       "\t 5.5 & 60\\\\\n",
       "\t 8.3 & 81\\\\\n",
       "\t 2.7 & 25\\\\\n",
       "\t 7.7 & 85\\\\\n",
       "\t 5.9 & 62\\\\\n",
       "\t 4.5 & 41\\\\\n",
       "\t 3.3 & 42\\\\\n",
       "\t 1.1 & 17\\\\\n",
       "\t 8.9 & 95\\\\\n",
       "\t 2.5 & 30\\\\\n",
       "\t 1.9 & 24\\\\\n",
       "\t 6.1 & 67\\\\\n",
       "\t 7.4 & 69\\\\\n",
       "\t 2.7 & 30\\\\\n",
       "\t 4.8 & 54\\\\\n",
       "\t 3.8 & 35\\\\\n",
       "\t 6.9 & 76\\\\\n",
       "\t 7.8 & 86\\\\\n",
       "\\end{tabular}\n"
      ],
      "text/markdown": [
       "\n",
       "A data.frame: 25 × 2\n",
       "\n",
       "| Hours &lt;dbl&gt; | Scores &lt;int&gt; |\n",
       "|---|---|\n",
       "| 2.5 | 21 |\n",
       "| 5.1 | 47 |\n",
       "| 3.2 | 27 |\n",
       "| 8.5 | 75 |\n",
       "| 3.5 | 30 |\n",
       "| 1.5 | 20 |\n",
       "| 9.2 | 88 |\n",
       "| 5.5 | 60 |\n",
       "| 8.3 | 81 |\n",
       "| 2.7 | 25 |\n",
       "| 7.7 | 85 |\n",
       "| 5.9 | 62 |\n",
       "| 4.5 | 41 |\n",
       "| 3.3 | 42 |\n",
       "| 1.1 | 17 |\n",
       "| 8.9 | 95 |\n",
       "| 2.5 | 30 |\n",
       "| 1.9 | 24 |\n",
       "| 6.1 | 67 |\n",
       "| 7.4 | 69 |\n",
       "| 2.7 | 30 |\n",
       "| 4.8 | 54 |\n",
       "| 3.8 | 35 |\n",
       "| 6.9 | 76 |\n",
       "| 7.8 | 86 |\n",
       "\n"
      ],
      "text/plain": [
       "   Hours Scores\n",
       "1  2.5   21    \n",
       "2  5.1   47    \n",
       "3  3.2   27    \n",
       "4  8.5   75    \n",
       "5  3.5   30    \n",
       "6  1.5   20    \n",
       "7  9.2   88    \n",
       "8  5.5   60    \n",
       "9  8.3   81    \n",
       "10 2.7   25    \n",
       "11 7.7   85    \n",
       "12 5.9   62    \n",
       "13 4.5   41    \n",
       "14 3.3   42    \n",
       "15 1.1   17    \n",
       "16 8.9   95    \n",
       "17 2.5   30    \n",
       "18 1.9   24    \n",
       "19 6.1   67    \n",
       "20 7.4   69    \n",
       "21 2.7   30    \n",
       "22 4.8   54    \n",
       "23 3.8   35    \n",
       "24 6.9   76    \n",
       "25 7.8   86    "
      ]
     },
     "metadata": {},
     "output_type": "display_data"
    }
   ],
   "source": [
    "# Data extraction funtion in jupyter library\n",
    "# getwd() function use to check the default repository\n",
    "# use read.csv(\"url\") this use for getting online data\n",
    "# Std_data stands for student dataset which we get form the url\n",
    "getwd()\n",
    "Std_data <- read.csv(\"https://raw.githubusercontent.com/AdiPersonalWorks/Random/master/student_scores%20-%20student_scores.csv\")\n",
    "Std_data\n"
   ]
  },
  {
   "cell_type": "code",
   "execution_count": 3,
   "id": "d0d9bf39",
   "metadata": {},
   "outputs": [
    {
     "data": {
      "text/html": [
       "<table class=\"dataframe\">\n",
       "<caption>A data.frame: 6 × 2</caption>\n",
       "<thead>\n",
       "\t<tr><th></th><th scope=col>Hours</th><th scope=col>Scores</th></tr>\n",
       "\t<tr><th></th><th scope=col>&lt;dbl&gt;</th><th scope=col>&lt;int&gt;</th></tr>\n",
       "</thead>\n",
       "<tbody>\n",
       "\t<tr><th scope=row>1</th><td>2.5</td><td>21</td></tr>\n",
       "\t<tr><th scope=row>2</th><td>5.1</td><td>47</td></tr>\n",
       "\t<tr><th scope=row>3</th><td>3.2</td><td>27</td></tr>\n",
       "\t<tr><th scope=row>4</th><td>8.5</td><td>75</td></tr>\n",
       "\t<tr><th scope=row>5</th><td>3.5</td><td>30</td></tr>\n",
       "\t<tr><th scope=row>6</th><td>1.5</td><td>20</td></tr>\n",
       "</tbody>\n",
       "</table>\n"
      ],
      "text/latex": [
       "A data.frame: 6 × 2\n",
       "\\begin{tabular}{r|ll}\n",
       "  & Hours & Scores\\\\\n",
       "  & <dbl> & <int>\\\\\n",
       "\\hline\n",
       "\t1 & 2.5 & 21\\\\\n",
       "\t2 & 5.1 & 47\\\\\n",
       "\t3 & 3.2 & 27\\\\\n",
       "\t4 & 8.5 & 75\\\\\n",
       "\t5 & 3.5 & 30\\\\\n",
       "\t6 & 1.5 & 20\\\\\n",
       "\\end{tabular}\n"
      ],
      "text/markdown": [
       "\n",
       "A data.frame: 6 × 2\n",
       "\n",
       "| <!--/--> | Hours &lt;dbl&gt; | Scores &lt;int&gt; |\n",
       "|---|---|---|\n",
       "| 1 | 2.5 | 21 |\n",
       "| 2 | 5.1 | 47 |\n",
       "| 3 | 3.2 | 27 |\n",
       "| 4 | 8.5 | 75 |\n",
       "| 5 | 3.5 | 30 |\n",
       "| 6 | 1.5 | 20 |\n",
       "\n"
      ],
      "text/plain": [
       "  Hours Scores\n",
       "1 2.5   21    \n",
       "2 5.1   47    \n",
       "3 3.2   27    \n",
       "4 8.5   75    \n",
       "5 3.5   30    \n",
       "6 1.5   20    "
      ]
     },
     "metadata": {},
     "output_type": "display_data"
    },
    {
     "data": {
      "text/html": [
       "<table class=\"dataframe\">\n",
       "<caption>A data.frame: 6 × 2</caption>\n",
       "<thead>\n",
       "\t<tr><th></th><th scope=col>Hours</th><th scope=col>Scores</th></tr>\n",
       "\t<tr><th></th><th scope=col>&lt;dbl&gt;</th><th scope=col>&lt;int&gt;</th></tr>\n",
       "</thead>\n",
       "<tbody>\n",
       "\t<tr><th scope=row>20</th><td>7.4</td><td>69</td></tr>\n",
       "\t<tr><th scope=row>21</th><td>2.7</td><td>30</td></tr>\n",
       "\t<tr><th scope=row>22</th><td>4.8</td><td>54</td></tr>\n",
       "\t<tr><th scope=row>23</th><td>3.8</td><td>35</td></tr>\n",
       "\t<tr><th scope=row>24</th><td>6.9</td><td>76</td></tr>\n",
       "\t<tr><th scope=row>25</th><td>7.8</td><td>86</td></tr>\n",
       "</tbody>\n",
       "</table>\n"
      ],
      "text/latex": [
       "A data.frame: 6 × 2\n",
       "\\begin{tabular}{r|ll}\n",
       "  & Hours & Scores\\\\\n",
       "  & <dbl> & <int>\\\\\n",
       "\\hline\n",
       "\t20 & 7.4 & 69\\\\\n",
       "\t21 & 2.7 & 30\\\\\n",
       "\t22 & 4.8 & 54\\\\\n",
       "\t23 & 3.8 & 35\\\\\n",
       "\t24 & 6.9 & 76\\\\\n",
       "\t25 & 7.8 & 86\\\\\n",
       "\\end{tabular}\n"
      ],
      "text/markdown": [
       "\n",
       "A data.frame: 6 × 2\n",
       "\n",
       "| <!--/--> | Hours &lt;dbl&gt; | Scores &lt;int&gt; |\n",
       "|---|---|---|\n",
       "| 20 | 7.4 | 69 |\n",
       "| 21 | 2.7 | 30 |\n",
       "| 22 | 4.8 | 54 |\n",
       "| 23 | 3.8 | 35 |\n",
       "| 24 | 6.9 | 76 |\n",
       "| 25 | 7.8 | 86 |\n",
       "\n"
      ],
      "text/plain": [
       "   Hours Scores\n",
       "20 7.4   69    \n",
       "21 2.7   30    \n",
       "22 4.8   54    \n",
       "23 3.8   35    \n",
       "24 6.9   76    \n",
       "25 7.8   86    "
      ]
     },
     "metadata": {},
     "output_type": "display_data"
    }
   ],
   "source": [
    "# head() function use to see the starting 6 entries of data\n",
    "# tail() function use to see the last 6 entries of data\n",
    "head(Std_data)\n",
    "tail(Std_data)"
   ]
  },
  {
   "cell_type": "code",
   "execution_count": 5,
   "id": "3acc8084",
   "metadata": {},
   "outputs": [
    {
     "data": {
      "text/html": [
       "FALSE"
      ],
      "text/latex": [
       "FALSE"
      ],
      "text/markdown": [
       "FALSE"
      ],
      "text/plain": [
       "[1] FALSE"
      ]
     },
     "metadata": {},
     "output_type": "display_data"
    },
    {
     "data": {
      "text/html": [
       "0"
      ],
      "text/latex": [
       "0"
      ],
      "text/markdown": [
       "0"
      ],
      "text/plain": [
       "[1] 0"
      ]
     },
     "metadata": {},
     "output_type": "display_data"
    }
   ],
   "source": [
    "# to check the null value in the data set. \n",
    "# Use anyNA(is.na(dataset name))\n",
    "# return false means dataset don't have NA values\n",
    "# sum(is.na(dataset name)) returns counting of NA values\n",
    "anyNA(is.na(Std_data))\n",
    "sum(is.na(Std_data))"
   ]
  },
  {
   "cell_type": "code",
   "execution_count": 6,
   "id": "b876e36b",
   "metadata": {},
   "outputs": [
    {
     "name": "stdout",
     "output_type": "stream",
     "text": [
      "'data.frame':\t25 obs. of  2 variables:\n",
      " $ Hours : num  2.5 5.1 3.2 8.5 3.5 1.5 9.2 5.5 8.3 2.7 ...\n",
      " $ Scores: int  21 47 27 75 30 20 88 60 81 25 ...\n"
     ]
    },
    {
     "data": {
      "text/plain": [
       "     Hours           Scores     \n",
       " Min.   :1.100   Min.   :17.00  \n",
       " 1st Qu.:2.700   1st Qu.:30.00  \n",
       " Median :4.800   Median :47.00  \n",
       " Mean   :5.012   Mean   :51.48  \n",
       " 3rd Qu.:7.400   3rd Qu.:75.00  \n",
       " Max.   :9.200   Max.   :95.00  "
      ]
     },
     "metadata": {},
     "output_type": "display_data"
    },
    {
     "data": {
      "text/html": [
       "<style>\n",
       ".dl-inline {width: auto; margin:0; padding: 0}\n",
       ".dl-inline>dt, .dl-inline>dd {float: none; width: auto; display: inline-block}\n",
       ".dl-inline>dt::after {content: \":\\0020\"; padding-right: .5ex}\n",
       ".dl-inline>dt:not(:first-of-type) {padding-left: .5ex}\n",
       "</style><dl class=dl-inline><dt>0%</dt><dd>1.1</dd><dt>25%</dt><dd>2.7</dd><dt>50%</dt><dd>4.8</dd><dt>75%</dt><dd>7.4</dd><dt>100%</dt><dd>9.2</dd></dl>\n"
      ],
      "text/latex": [
       "\\begin{description*}\n",
       "\\item[0\\textbackslash{}\\%] 1.1\n",
       "\\item[25\\textbackslash{}\\%] 2.7\n",
       "\\item[50\\textbackslash{}\\%] 4.8\n",
       "\\item[75\\textbackslash{}\\%] 7.4\n",
       "\\item[100\\textbackslash{}\\%] 9.2\n",
       "\\end{description*}\n"
      ],
      "text/markdown": [
       "0%\n",
       ":   1.125%\n",
       ":   2.750%\n",
       ":   4.875%\n",
       ":   7.4100%\n",
       ":   9.2\n",
       "\n"
      ],
      "text/plain": [
       "  0%  25%  50%  75% 100% \n",
       " 1.1  2.7  4.8  7.4  9.2 "
      ]
     },
     "metadata": {},
     "output_type": "display_data"
    }
   ],
   "source": [
    "# To check the structure and summary of data using same function\n",
    "# quantile function checks the minimum, mean, median, maximum value\n",
    "# this function use for statistics purpose\n",
    "# quantile(dataset_name$variable_name) applied on a particular variable of dataset \n",
    "str(Std_data)\n",
    "summary(Std_data)\n",
    "quantile(Std_data$Hours)"
   ]
  },
  {
   "cell_type": "raw",
   "id": "0248268b",
   "metadata": {},
   "source": [
    "According to statistics both column values have distributed normaily. No outliers are visible in the column."
   ]
  },
  {
   "cell_type": "code",
   "execution_count": 7,
   "id": "b61726f3",
   "metadata": {},
   "outputs": [
    {
     "data": {
      "image/png": "[encoded data removed]",
      "text/plain": [
       "plot without title"
      ]
     },
     "metadata": {
      "image/png": {
       "height": 420,
       "width": 420
      }
     },
     "output_type": "display_data"
    }
   ],
   "source": [
    "# to check the outliers use box plot in case of continous variable\n",
    "# in r language there is two type of visualization method can use\n",
    "# 1. Base plot \n",
    "# 2. ggplot \n",
    "# plot(dataset_name) under the base plot\n",
    "# abline shows a regression line between two variable\n",
    "plot(Std_data)\n",
    "abline(lm(Scores ~ Hours, data = Std_data), col = \"blue\")"
   ]
  },
  {
   "cell_type": "code",
   "execution_count": 10,
   "id": "b98460bb",
   "metadata": {},
   "outputs": [
    {
     "data": {
      "image/png": "[encoded data removed]",
      "text/plain": [
       "plot without title"
      ]
     },
     "metadata": {
      "image/png": {
       "height": 420,
       "width": 420
      }
     },
     "output_type": "display_data"
    }
   ],
   "source": [
    "# Under ggplot use\n",
    "# aes stands for axis use to put x and y axis variables\n",
    "ggplot(Std_data, aes(x = Hours, y = Scores))+\n",
    "geom_point()"
   ]
  },
  {
   "cell_type": "markdown",
   "id": "00a76f4c",
   "metadata": {},
   "source": [
    "Visualization technic use to see the relationship between variables\n",
    "This is also called exploratory analysis\n",
    "In this case relation between variables are positive"
   ]
  },
  {
   "cell_type": "code",
   "execution_count": 8,
   "id": "09a1b128",
   "metadata": {
    "scrolled": true
   },
   "outputs": [
    {
     "data": {
      "text/html": [
       "<table class=\"dataframe\">\n",
       "<caption>A data.frame: 17 × 2</caption>\n",
       "<thead>\n",
       "\t<tr><th></th><th scope=col>Hours</th><th scope=col>Scores</th></tr>\n",
       "\t<tr><th></th><th scope=col>&lt;dbl&gt;</th><th scope=col>&lt;int&gt;</th></tr>\n",
       "</thead>\n",
       "<tbody>\n",
       "\t<tr><th scope=row>21</th><td>2.7</td><td>30</td></tr>\n",
       "\t<tr><th scope=row>16</th><td>8.9</td><td>95</td></tr>\n",
       "\t<tr><th scope=row>4</th><td>8.5</td><td>75</td></tr>\n",
       "\t<tr><th scope=row>8</th><td>5.5</td><td>60</td></tr>\n",
       "\t<tr><th scope=row>9</th><td>8.3</td><td>81</td></tr>\n",
       "\t<tr><th scope=row>12</th><td>5.9</td><td>62</td></tr>\n",
       "\t<tr><th scope=row>15</th><td>1.1</td><td>17</td></tr>\n",
       "\t<tr><th scope=row>18</th><td>1.9</td><td>24</td></tr>\n",
       "\t<tr><th scope=row>10</th><td>2.7</td><td>25</td></tr>\n",
       "\t<tr><th scope=row>22</th><td>4.8</td><td>54</td></tr>\n",
       "\t<tr><th scope=row>2</th><td>5.1</td><td>47</td></tr>\n",
       "\t<tr><th scope=row>5</th><td>3.5</td><td>30</td></tr>\n",
       "\t<tr><th scope=row>13</th><td>4.5</td><td>41</td></tr>\n",
       "\t<tr><th scope=row>23</th><td>3.8</td><td>35</td></tr>\n",
       "\t<tr><th scope=row>7</th><td>9.2</td><td>88</td></tr>\n",
       "\t<tr><th scope=row>25</th><td>7.8</td><td>86</td></tr>\n",
       "\t<tr><th scope=row>6</th><td>1.5</td><td>20</td></tr>\n",
       "</tbody>\n",
       "</table>\n"
      ],
      "text/latex": [
       "A data.frame: 17 × 2\n",
       "\\begin{tabular}{r|ll}\n",
       "  & Hours & Scores\\\\\n",
       "  & <dbl> & <int>\\\\\n",
       "\\hline\n",
       "\t21 & 2.7 & 30\\\\\n",
       "\t16 & 8.9 & 95\\\\\n",
       "\t4 & 8.5 & 75\\\\\n",
       "\t8 & 5.5 & 60\\\\\n",
       "\t9 & 8.3 & 81\\\\\n",
       "\t12 & 5.9 & 62\\\\\n",
       "\t15 & 1.1 & 17\\\\\n",
       "\t18 & 1.9 & 24\\\\\n",
       "\t10 & 2.7 & 25\\\\\n",
       "\t22 & 4.8 & 54\\\\\n",
       "\t2 & 5.1 & 47\\\\\n",
       "\t5 & 3.5 & 30\\\\\n",
       "\t13 & 4.5 & 41\\\\\n",
       "\t23 & 3.8 & 35\\\\\n",
       "\t7 & 9.2 & 88\\\\\n",
       "\t25 & 7.8 & 86\\\\\n",
       "\t6 & 1.5 & 20\\\\\n",
       "\\end{tabular}\n"
      ],
      "text/markdown": [
       "\n",
       "A data.frame: 17 × 2\n",
       "\n",
       "| <!--/--> | Hours &lt;dbl&gt; | Scores &lt;int&gt; |\n",
       "|---|---|---|\n",
       "| 21 | 2.7 | 30 |\n",
       "| 16 | 8.9 | 95 |\n",
       "| 4 | 8.5 | 75 |\n",
       "| 8 | 5.5 | 60 |\n",
       "| 9 | 8.3 | 81 |\n",
       "| 12 | 5.9 | 62 |\n",
       "| 15 | 1.1 | 17 |\n",
       "| 18 | 1.9 | 24 |\n",
       "| 10 | 2.7 | 25 |\n",
       "| 22 | 4.8 | 54 |\n",
       "| 2 | 5.1 | 47 |\n",
       "| 5 | 3.5 | 30 |\n",
       "| 13 | 4.5 | 41 |\n",
       "| 23 | 3.8 | 35 |\n",
       "| 7 | 9.2 | 88 |\n",
       "| 25 | 7.8 | 86 |\n",
       "| 6 | 1.5 | 20 |\n",
       "\n"
      ],
      "text/plain": [
       "   Hours Scores\n",
       "21 2.7   30    \n",
       "16 8.9   95    \n",
       "4  8.5   75    \n",
       "8  5.5   60    \n",
       "9  8.3   81    \n",
       "12 5.9   62    \n",
       "15 1.1   17    \n",
       "18 1.9   24    \n",
       "10 2.7   25    \n",
       "22 4.8   54    \n",
       "2  5.1   47    \n",
       "5  3.5   30    \n",
       "13 4.5   41    \n",
       "23 3.8   35    \n",
       "7  9.2   88    \n",
       "25 7.8   86    \n",
       "6  1.5   20    "
      ]
     },
     "metadata": {},
     "output_type": "display_data"
    },
    {
     "data": {
      "text/html": [
       "<table class=\"dataframe\">\n",
       "<caption>A data.frame: 8 × 2</caption>\n",
       "<thead>\n",
       "\t<tr><th></th><th scope=col>Hours</th><th scope=col>Scores</th></tr>\n",
       "\t<tr><th></th><th scope=col>&lt;dbl&gt;</th><th scope=col>&lt;int&gt;</th></tr>\n",
       "</thead>\n",
       "<tbody>\n",
       "\t<tr><th scope=row>1</th><td>2.5</td><td>21</td></tr>\n",
       "\t<tr><th scope=row>3</th><td>3.2</td><td>27</td></tr>\n",
       "\t<tr><th scope=row>11</th><td>7.7</td><td>85</td></tr>\n",
       "\t<tr><th scope=row>14</th><td>3.3</td><td>42</td></tr>\n",
       "\t<tr><th scope=row>17</th><td>2.5</td><td>30</td></tr>\n",
       "\t<tr><th scope=row>19</th><td>6.1</td><td>67</td></tr>\n",
       "\t<tr><th scope=row>20</th><td>7.4</td><td>69</td></tr>\n",
       "\t<tr><th scope=row>24</th><td>6.9</td><td>76</td></tr>\n",
       "</tbody>\n",
       "</table>\n"
      ],
      "text/latex": [
       "A data.frame: 8 × 2\n",
       "\\begin{tabular}{r|ll}\n",
       "  & Hours & Scores\\\\\n",
       "  & <dbl> & <int>\\\\\n",
       "\\hline\n",
       "\t1 & 2.5 & 21\\\\\n",
       "\t3 & 3.2 & 27\\\\\n",
       "\t11 & 7.7 & 85\\\\\n",
       "\t14 & 3.3 & 42\\\\\n",
       "\t17 & 2.5 & 30\\\\\n",
       "\t19 & 6.1 & 67\\\\\n",
       "\t20 & 7.4 & 69\\\\\n",
       "\t24 & 6.9 & 76\\\\\n",
       "\\end{tabular}\n"
      ],
      "text/markdown": [
       "\n",
       "A data.frame: 8 × 2\n",
       "\n",
       "| <!--/--> | Hours &lt;dbl&gt; | Scores &lt;int&gt; |\n",
       "|---|---|---|\n",
       "| 1 | 2.5 | 21 |\n",
       "| 3 | 3.2 | 27 |\n",
       "| 11 | 7.7 | 85 |\n",
       "| 14 | 3.3 | 42 |\n",
       "| 17 | 2.5 | 30 |\n",
       "| 19 | 6.1 | 67 |\n",
       "| 20 | 7.4 | 69 |\n",
       "| 24 | 6.9 | 76 |\n",
       "\n"
      ],
      "text/plain": [
       "   Hours Scores\n",
       "1  2.5   21    \n",
       "3  3.2   27    \n",
       "11 7.7   85    \n",
       "14 3.3   42    \n",
       "17 2.5   30    \n",
       "19 6.1   67    \n",
       "20 7.4   69    \n",
       "24 6.9   76    "
      ]
     },
     "metadata": {},
     "output_type": "display_data"
    }
   ],
   "source": [
    "# Spliting the dataset\n",
    "# training and testing \n",
    "# which is very important part of data analysis\n",
    "# for spliting use sample() function which is already the part of internal library in R\n",
    "# spliting data 70:30 ratio \n",
    "# Questionnaires why 70:30 why not 80:20 why not 65:35\n",
    "# Answer is too small but important. According to the size of dataset decided\n",
    "\n",
    "spliting_data <- sample(1:nrow(Std_data), 0.7*nrow(Std_data), replace = F)\n",
    "traindata <- Std_data[spliting_data,]\n",
    "testdata <- Std_data[-spliting_data,]\n",
    "traindata\n",
    "testdata"
   ]
  },
  {
   "cell_type": "markdown",
   "id": "0b2e869d",
   "metadata": {},
   "source": [
    "After completion of statistics part\n",
    "now will go for modeling according to analysis"
   ]
  },
  {
   "cell_type": "markdown",
   "id": "ebe1b651",
   "metadata": {},
   "source": [
    "# Creating a predictive model \n",
    "1. Before predicting a model\n",
    "2. How will say that which model is best for prediction\n",
    "3. it's all depends on your variable and it's nature\n",
    "    "
   ]
  },
  {
   "cell_type": "markdown",
   "id": "d6c28458",
   "metadata": {},
   "source": [
    "# Two type of variable nature\n",
    "1. Continous \n",
    "2. Categorical\n",
    "\n"
   ]
  },
  {
   "cell_type": "markdown",
   "id": "05258bd5",
   "metadata": {},
   "source": [
    "And we have two continous variable one is dependent and one is independent \n",
    "According to question \n",
    "Scores is our dependent variable and Hours is our independent variable\n",
    "In this case, a linear model is created"
   ]
  },
  {
   "cell_type": "markdown",
   "id": "3a04df68",
   "metadata": {},
   "source": [
    "# Linear regression model\n",
    "# y = mx + c\n",
    "lm model will use\n",
    "1. y = dependent continous variable\n",
    "2. m = independent variable \n",
    "3. x = coefficient\n",
    "4. c = intercept"
   ]
  },
  {
   "cell_type": "code",
   "execution_count": 12,
   "id": "6d716f25",
   "metadata": {
    "scrolled": true
   },
   "outputs": [
    {
     "data": {
      "text/html": [
       "<style>\n",
       ".list-inline {list-style: none; margin:0; padding: 0}\n",
       ".list-inline>li {display: inline-block}\n",
       ".list-inline>li:not(:last-child)::after {content: \"\\00b7\"; padding: 0 .5ex}\n",
       "</style>\n",
       "<ol class=list-inline><li>'Hours'</li><li>'Scores'</li></ol>\n"
      ],
      "text/latex": [
       "\\begin{enumerate*}\n",
       "\\item 'Hours'\n",
       "\\item 'Scores'\n",
       "\\end{enumerate*}\n"
      ],
      "text/markdown": [
       "1. 'Hours'\n",
       "2. 'Scores'\n",
       "\n",
       "\n"
      ],
      "text/plain": [
       "[1] \"Hours\"  \"Scores\""
      ]
     },
     "metadata": {},
     "output_type": "display_data"
    }
   ],
   "source": [
    "# to show the variable names\n",
    "names(Std_data)\n"
   ]
  },
  {
   "cell_type": "code",
   "execution_count": 9,
   "id": "d960edf2",
   "metadata": {
    "scrolled": false
   },
   "outputs": [
    {
     "data": {
      "text/plain": [
       "\n",
       "Call:\n",
       "lm(formula = Scores ~ Hours, data = traindata)\n",
       "\n",
       "Residuals:\n",
       "   Min     1Q Median     3Q    Max \n",
       "-9.128 -4.352  1.127  3.370  8.541 \n",
       "\n",
       "Coefficients:\n",
       "            Estimate Std. Error t value Pr(>|t|)    \n",
       "(Intercept)   3.1505     2.7813   1.133    0.275    \n",
       "Hours         9.5267     0.4896  19.457  4.7e-12 ***\n",
       "---\n",
       "Signif. codes:  0 '***' 0.001 '**' 0.01 '*' 0.05 '.' 0.1 ' ' 1\n",
       "\n",
       "Residual standard error: 5.285 on 15 degrees of freedom\n",
       "Multiple R-squared:  0.9619,\tAdjusted R-squared:  0.9593 \n",
       "F-statistic: 378.6 on 1 and 15 DF,  p-value: 4.701e-12\n"
      ]
     },
     "metadata": {},
     "output_type": "display_data"
    }
   ],
   "source": [
    "# creating linear regression model\n",
    "set.seed(70)\n",
    "line_model <- lm(Scores ~ Hours\n",
    "                , data = traindata)\n",
    "summary(line_model)"
   ]
  },
  {
   "cell_type": "raw",
   "id": "21247e52",
   "metadata": {},
   "source": [
    "Model is ready for prediction. Independent variable significant value is high to predict the model. It means this model is good to predict the value of dependent variable Scores\n",
    "\n",
    "Rules:\n",
    "1. P value is lies between 0 and 1. \n",
    "2. But model independent value must be P < 0.05 so that it will significant to predict the model\n",
    "3. Multiple R-squared value and Adjusted R-squared value should almost near.\n",
    "4. Hours estimate value is positive.\n",
    "\n",
    "Predictive Equcation: Scores = Intercept values + Hours *  Estimated Cofficient value \n",
    "Scores = 3.660 + 9.414 * Hours"
   ]
  },
  {
   "cell_type": "markdown",
   "id": "e457c7d5",
   "metadata": {},
   "source": [
    "# Testing, predicted dependent variable with test dataset"
   ]
  },
  {
   "cell_type": "code",
   "execution_count": 13,
   "id": "145b48f9",
   "metadata": {},
   "outputs": [
    {
     "data": {
      "text/html": [
       "<table class=\"dataframe\">\n",
       "<caption>A data.frame: 8 × 3</caption>\n",
       "<thead>\n",
       "\t<tr><th></th><th scope=col>Hours</th><th scope=col>Scores</th><th scope=col>pred_scores</th></tr>\n",
       "\t<tr><th></th><th scope=col>&lt;dbl&gt;</th><th scope=col>&lt;int&gt;</th><th scope=col>&lt;dbl&gt;</th></tr>\n",
       "</thead>\n",
       "<tbody>\n",
       "\t<tr><th scope=row>1</th><td>2.5</td><td>21</td><td>26.96734</td></tr>\n",
       "\t<tr><th scope=row>3</th><td>3.2</td><td>27</td><td>33.63606</td></tr>\n",
       "\t<tr><th scope=row>11</th><td>7.7</td><td>85</td><td>76.50639</td></tr>\n",
       "\t<tr><th scope=row>14</th><td>3.3</td><td>42</td><td>34.58873</td></tr>\n",
       "\t<tr><th scope=row>17</th><td>2.5</td><td>30</td><td>26.96734</td></tr>\n",
       "\t<tr><th scope=row>19</th><td>6.1</td><td>67</td><td>61.26361</td></tr>\n",
       "\t<tr><th scope=row>20</th><td>7.4</td><td>69</td><td>73.64837</td></tr>\n",
       "\t<tr><th scope=row>24</th><td>6.9</td><td>76</td><td>68.88500</td></tr>\n",
       "</tbody>\n",
       "</table>\n"
      ],
      "text/latex": [
       "A data.frame: 8 × 3\n",
       "\\begin{tabular}{r|lll}\n",
       "  & Hours & Scores & pred\\_scores\\\\\n",
       "  & <dbl> & <int> & <dbl>\\\\\n",
       "\\hline\n",
       "\t1 & 2.5 & 21 & 26.96734\\\\\n",
       "\t3 & 3.2 & 27 & 33.63606\\\\\n",
       "\t11 & 7.7 & 85 & 76.50639\\\\\n",
       "\t14 & 3.3 & 42 & 34.58873\\\\\n",
       "\t17 & 2.5 & 30 & 26.96734\\\\\n",
       "\t19 & 6.1 & 67 & 61.26361\\\\\n",
       "\t20 & 7.4 & 69 & 73.64837\\\\\n",
       "\t24 & 6.9 & 76 & 68.88500\\\\\n",
       "\\end{tabular}\n"
      ],
      "text/markdown": [
       "\n",
       "A data.frame: 8 × 3\n",
       "\n",
       "| <!--/--> | Hours &lt;dbl&gt; | Scores &lt;int&gt; | pred_scores &lt;dbl&gt; |\n",
       "|---|---|---|---|\n",
       "| 1 | 2.5 | 21 | 26.96734 |\n",
       "| 3 | 3.2 | 27 | 33.63606 |\n",
       "| 11 | 7.7 | 85 | 76.50639 |\n",
       "| 14 | 3.3 | 42 | 34.58873 |\n",
       "| 17 | 2.5 | 30 | 26.96734 |\n",
       "| 19 | 6.1 | 67 | 61.26361 |\n",
       "| 20 | 7.4 | 69 | 73.64837 |\n",
       "| 24 | 6.9 | 76 | 68.88500 |\n",
       "\n"
      ],
      "text/plain": [
       "   Hours Scores pred_scores\n",
       "1  2.5   21     26.96734   \n",
       "3  3.2   27     33.63606   \n",
       "11 7.7   85     76.50639   \n",
       "14 3.3   42     34.58873   \n",
       "17 2.5   30     26.96734   \n",
       "19 6.1   67     61.26361   \n",
       "20 7.4   69     73.64837   \n",
       "24 6.9   76     68.88500   "
      ]
     },
     "metadata": {},
     "output_type": "display_data"
    },
    {
     "data": {
      "text/html": [
       "<table class=\"dataframe\">\n",
       "<caption>A data.frame: 8 × 3</caption>\n",
       "<thead>\n",
       "\t<tr><th></th><th scope=col>Hours</th><th scope=col>Scores</th><th scope=col>pred_scores</th></tr>\n",
       "\t<tr><th></th><th scope=col>&lt;dbl&gt;</th><th scope=col>&lt;int&gt;</th><th scope=col>&lt;chr&gt;</th></tr>\n",
       "</thead>\n",
       "<tbody>\n",
       "\t<tr><th scope=row>1</th><td>2.5</td><td>21</td><td>27.0</td></tr>\n",
       "\t<tr><th scope=row>3</th><td>3.2</td><td>27</td><td>33.6</td></tr>\n",
       "\t<tr><th scope=row>11</th><td>7.7</td><td>85</td><td>76.5</td></tr>\n",
       "\t<tr><th scope=row>14</th><td>3.3</td><td>42</td><td>34.6</td></tr>\n",
       "\t<tr><th scope=row>17</th><td>2.5</td><td>30</td><td>27.0</td></tr>\n",
       "\t<tr><th scope=row>19</th><td>6.1</td><td>67</td><td>61.3</td></tr>\n",
       "\t<tr><th scope=row>20</th><td>7.4</td><td>69</td><td>73.6</td></tr>\n",
       "\t<tr><th scope=row>24</th><td>6.9</td><td>76</td><td>68.9</td></tr>\n",
       "</tbody>\n",
       "</table>\n"
      ],
      "text/latex": [
       "A data.frame: 8 × 3\n",
       "\\begin{tabular}{r|lll}\n",
       "  & Hours & Scores & pred\\_scores\\\\\n",
       "  & <dbl> & <int> & <chr>\\\\\n",
       "\\hline\n",
       "\t1 & 2.5 & 21 & 27.0\\\\\n",
       "\t3 & 3.2 & 27 & 33.6\\\\\n",
       "\t11 & 7.7 & 85 & 76.5\\\\\n",
       "\t14 & 3.3 & 42 & 34.6\\\\\n",
       "\t17 & 2.5 & 30 & 27.0\\\\\n",
       "\t19 & 6.1 & 67 & 61.3\\\\\n",
       "\t20 & 7.4 & 69 & 73.6\\\\\n",
       "\t24 & 6.9 & 76 & 68.9\\\\\n",
       "\\end{tabular}\n"
      ],
      "text/markdown": [
       "\n",
       "A data.frame: 8 × 3\n",
       "\n",
       "| <!--/--> | Hours &lt;dbl&gt; | Scores &lt;int&gt; | pred_scores &lt;chr&gt; |\n",
       "|---|---|---|---|\n",
       "| 1 | 2.5 | 21 | 27.0 |\n",
       "| 3 | 3.2 | 27 | 33.6 |\n",
       "| 11 | 7.7 | 85 | 76.5 |\n",
       "| 14 | 3.3 | 42 | 34.6 |\n",
       "| 17 | 2.5 | 30 | 27.0 |\n",
       "| 19 | 6.1 | 67 | 61.3 |\n",
       "| 20 | 7.4 | 69 | 73.6 |\n",
       "| 24 | 6.9 | 76 | 68.9 |\n",
       "\n"
      ],
      "text/plain": [
       "   Hours Scores pred_scores\n",
       "1  2.5   21     27.0       \n",
       "3  3.2   27     33.6       \n",
       "11 7.7   85     76.5       \n",
       "14 3.3   42     34.6       \n",
       "17 2.5   30     27.0       \n",
       "19 6.1   67     61.3       \n",
       "20 7.4   69     73.6       \n",
       "24 6.9   76     68.9       "
      ]
     },
     "metadata": {},
     "output_type": "display_data"
    }
   ],
   "source": [
    "# Adding a pred_scores column in testdata for testing \n",
    "# the value with actual value of scores\n",
    "testdata$pred_scores <- predict(line_model, new = testdata)\n",
    "testdata\n",
    "testdata$pred_scores<- sprintf(testdata$pred_scores, fmt = '%#.1f')\n",
    "testdata"
   ]
  },
  {
   "cell_type": "code",
   "execution_count": 16,
   "id": "33737726",
   "metadata": {},
   "outputs": [
    {
     "name": "stdout",
     "output_type": "stream",
     "text": [
      "'data.frame':\t8 obs. of  3 variables:\n",
      " $ Hours      : num  2.5 3.2 7.7 3.3 2.5 6.1 7.4 6.9\n",
      " $ Scores     : int  21 27 85 42 30 67 69 76\n",
      " $ pred_scores: num  27 33.6 76.5 34.6 27 61.3 73.6 68.9\n",
      "'data.frame':\t8 obs. of  3 variables:\n",
      " $ Hours      : num  2.5 3.2 7.7 3.3 2.5 6.1 7.4 6.9\n",
      " $ Scores     : int  21 27 85 42 30 67 69 76\n",
      " $ pred_scores: num  27 33.6 76.5 34.6 27 61.3 73.6 68.9\n"
     ]
    }
   ],
   "source": [
    "str(testdata)\n",
    "testdata$pred_scores <- as.numeric(testdata$pred_scores)\n",
    "str(testdata)"
   ]
  },
  {
   "cell_type": "code",
   "execution_count": 26,
   "id": "c6f2029a",
   "metadata": {},
   "outputs": [
    {
     "data": {
      "image/png": "[encoded data removed]",
      "text/plain": [
       "plot without title"
      ]
     },
     "metadata": {
      "image/png": {
       "height": 420,
       "width": 420
      }
     },
     "output_type": "display_data"
    }
   ],
   "source": [
    "# ploting relationship with predicted scores\n",
    "plot(testdata)\n",
    "abline(lm(pred_scores ~ Hours, data = testdata), col= \"blue\")"
   ]
  },
  {
   "cell_type": "code",
   "execution_count": 17,
   "id": "8bee25a4",
   "metadata": {},
   "outputs": [
    {
     "data": {
      "text/html": [
       "14.393894406414"
      ],
      "text/latex": [
       "14.393894406414"
      ],
      "text/markdown": [
       "14.393894406414"
      ],
      "text/plain": [
       "[1] 14.39389"
      ]
     },
     "metadata": {},
     "output_type": "display_data"
    }
   ],
   "source": [
    "#MAPE(MeanAbsolutePercentageError): \n",
    "#Lower its value better is the accuracy of the model.\n",
    "#MAPE Calculation:\n",
    "#Percentage Error 14.3% \n",
    "mape <- mean(abs((testdata$pred_scores - testdata$Scores))/testdata$Scores)*100\n",
    "mape"
   ]
  },
  {
   "cell_type": "code",
   "execution_count": 20,
   "id": "0ddbeffe",
   "metadata": {},
   "outputs": [
    {
     "data": {
      "text/html": [
       "13.9159882731419"
      ],
      "text/latex": [
       "13.9159882731419"
      ],
      "text/markdown": [
       "13.9159882731419"
      ],
      "text/plain": [
       "[1] 13.91599"
      ]
     },
     "metadata": {},
     "output_type": "display_data"
    }
   ],
   "source": [
    "# Mape using mape function\n",
    "#install.packages(\"Metrics\")\n",
    "# can check the accuracy via calling metrics library\n",
    "# get a same almost same result 13.91% Percentage Error\n",
    "library(Metrics)\n",
    "mape(testdata$pred_scores,testdata$Scores)*100"
   ]
  },
  {
   "cell_type": "markdown",
   "id": "6c4b96ab",
   "metadata": {},
   "source": [
    "# What will be predicted scores if a student studies for 9.25 hrs/ day?\n",
    "\n",
    "# Equation to calculate the predictive scores\n",
    "# Scores = 2.425 + 9.820*Hours\n",
    "\n",
    "1. Scores = 3.150 + 9.52*9.25\n",
    "2. Scores = 91.21"
   ]
  }
 ],
 "metadata": {
  "kernelspec": {
   "display_name": "R",
   "language": "R",
   "name": "ir"
  },
  "language_info": {
   "codemirror_mode": "r",
   "file_extension": ".r",
   "mimetype": "text/x-r-source",
   "name": "R",
   "pygments_lexer": "r",
   "version": "4.0.3"
  }
 },
 "nbformat": 4,
 "nbformat_minor": 5
}
